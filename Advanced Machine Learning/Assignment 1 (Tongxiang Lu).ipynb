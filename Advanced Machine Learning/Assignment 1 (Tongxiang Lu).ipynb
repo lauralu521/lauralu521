{
  "nbformat": 4,
  "nbformat_minor": 0,
  "metadata": {
    "colab": {
      "provenance": []
    },
    "kernelspec": {
      "name": "python3",
      "display_name": "Python 3"
    },
    "language_info": {
      "name": "python"
    }
  },
  "cells": [
    {
      "cell_type": "code",
      "source": [
        "from sklearn.datasets import make_blobs\n",
        "import matplotlib.pyplot as plt\n",
        "import numpy as np\n",
        "\n",
        "centers = [[2, 4], [6, 6], [1, 9]]\n",
        "n_classes = len(centers)\n",
        "data, labels = make_blobs(n_samples=150, \n",
        "                          centers=np.array(centers),\n",
        "                          random_state=1)"
      ],
      "metadata": {
        "id": "P1VMl3eWhSZ_"
      },
      "execution_count": 2,
      "outputs": []
    },
    {
      "cell_type": "markdown",
      "source": [
        "# Do the 80-20 split of the data"
      ],
      "metadata": {
        "id": "shrW8LRHhZor"
      }
    },
    {
      "cell_type": "code",
      "source": [
        "from sklearn.model_selection import train_test_split\n",
        "X_train, X_test, y_train, y_test = train_test_split(data, labels, test_size=0.2, random_state=1)"
      ],
      "metadata": {
        "id": "44fypCDLhdB7"
      },
      "execution_count": 3,
      "outputs": []
    },
    {
      "cell_type": "markdown",
      "source": [
        "# Perform a KNN analysis of the simulated data"
      ],
      "metadata": {
        "id": "6DBo0kwPiN-w"
      }
    },
    {
      "cell_type": "code",
      "source": [
        "from sklearn.neighbors import KNeighborsClassifier"
      ],
      "metadata": {
        "id": "mJugRJ3Rhl6n"
      },
      "execution_count": 4,
      "outputs": []
    },
    {
      "cell_type": "code",
      "source": [
        "knn = KNeighborsClassifier(n_neighbors=5)\n",
        "knn.fit(X_train, y_train)"
      ],
      "metadata": {
        "colab": {
          "base_uri": "https://localhost:8080/"
        },
        "id": "aYUr08pFhqnC",
        "outputId": "e77901f0-873a-4fd4-e937-36403c23e636"
      },
      "execution_count": 5,
      "outputs": [
        {
          "output_type": "execute_result",
          "data": {
            "text/plain": [
              "KNeighborsClassifier()"
            ]
          },
          "metadata": {},
          "execution_count": 5
        }
      ]
    },
    {
      "cell_type": "markdown",
      "source": [
        "# Output the accuracy score"
      ],
      "metadata": {
        "id": "qay3g0CdiTb1"
      }
    },
    {
      "cell_type": "code",
      "source": [
        "from sklearn.metrics import accuracy_score"
      ],
      "metadata": {
        "id": "YkIZf7FCht82"
      },
      "execution_count": 6,
      "outputs": []
    },
    {
      "cell_type": "code",
      "source": [
        "y_pred = knn.predict(X_test)\n",
        "accuracy = accuracy_score(y_test, y_pred)\n",
        "print(\"Accuracy:\", accuracy)"
      ],
      "metadata": {
        "colab": {
          "base_uri": "https://localhost:8080/"
        },
        "id": "x8UCLZ2HhzZV",
        "outputId": "91c6592c-a1d3-457a-8e29-f619ce5ded1b"
      },
      "execution_count": 7,
      "outputs": [
        {
          "output_type": "stream",
          "name": "stdout",
          "text": [
            "Accuracy: 1.0\n"
          ]
        }
      ]
    },
    {
      "cell_type": "markdown",
      "source": [
        "# Plot the different results"
      ],
      "metadata": {
        "id": "8Wgx5vKriYqG"
      }
    },
    {
      "cell_type": "code",
      "source": [
        "plt.scatter(data[:, 0], data[:, 1], c=labels)\n",
        "plt.scatter(X_test[:, 0], X_test[:, 1], c=y_pred, marker='x', s=100)\n",
        "plt.show()"
      ],
      "metadata": {
        "colab": {
          "base_uri": "https://localhost:8080/",
          "height": 265
        },
        "id": "6asHQ9cQh4Yz",
        "outputId": "37c49806-302a-4da1-905e-38f6300d1808"
      },
      "execution_count": 8,
      "outputs": [
        {
          "output_type": "display_data",
          "data": {
            "text/plain": [
              "<Figure size 432x288 with 1 Axes>"
            ],
            "image/png": "[encoded data removed]"
          },
          "metadata": {
            "needs_background": "light"
          }
        }
      ]
    },
    {
      "cell_type": "markdown",
      "source": [
        "The first scatter plot shows the original data with different classes represented by different colors. The second scatter plot shows the test data with the markers 'x' and with the color representing the predicted class."
      ],
      "metadata": {
        "id": "SgfxW5WGh-XA"
      }
    }
  ]
}