{
  "nbformat": 4,
  "nbformat_minor": 0,
  "metadata": {
    "colab": {
      "provenance": [],
      "authorship_tag": "ABX9TyPRN/BMBic25nLhg4rYUYYo",
      "include_colab_link": true
    },
    "kernelspec": {
      "name": "python3",
      "display_name": "Python 3"
    },
    "language_info": {
      "name": "python"
    }
  },
  "cells": [
    {
      "cell_type": "markdown",
      "metadata": {
        "id": "view-in-github",
        "colab_type": "text"
      },
      "source": [
        "<a href=\"https://colab.research.google.com/github/lauralu521/lauralu521-lu_64060/blob/main/Assignment_2_Tongxiang_Lu.ipynb\" target=\"_parent\"><img src=\"https://colab.research.google.com/assets/colab-badge.svg\" alt=\"Open In Colab\"/></a>"
      ]
    },
    {
      "cell_type": "markdown",
      "source": [
        "#  Question 1\n",
        "## 1)Load IMDB data."
      ],
      "metadata": {
        "id": "aSoNa-aW8ZDP"
      }
    },
    {
      "cell_type": "code",
      "execution_count": 4,
      "metadata": {
        "id": "HG3ovFd48RE9",
        "colab": {
          "base_uri": "https://localhost:8080/"
        },
        "outputId": "9eeeeddd-8e86-4ad3-8946-6bb223b03e67"
      },
      "outputs": [
        {
          "output_type": "stream",
          "name": "stdout",
          "text": [
            "Downloading data from https://storage.googleapis.com/tensorflow/tf-keras-datasets/imdb.npz\n",
            "17464789/17464789 [==============================] - 0s 0us/step\n"
          ]
        }
      ],
      "source": [
        "from tensorflow.keras.datasets import imdb\n",
        "from tensorflow.keras import models\n",
        "from tensorflow.keras import layers\n",
        "import numpy as np\n",
        "(train_data, train_labels), (test_data, test_labels) = imdb.load_data(num_words=10000)"
      ]
    },
    {
      "cell_type": "markdown",
      "source": [
        "## 2) Create a function to vectorize the sequences."
      ],
      "metadata": {
        "id": "CGTk26AR8oaV"
      }
    },
    {
      "cell_type": "code",
      "source": [
        "def vectorize_sequences(sequences, dimension=10000):\n",
        "    results = np.zeros((len(sequences), dimension))\n",
        "    for i, sequence in enumerate(sequences):\n",
        "        results[i, sequence] = 1.\n",
        "    return results\n",
        "     "
      ],
      "metadata": {
        "id": "pI4L0IPVByi_"
      },
      "execution_count": 5,
      "outputs": []
    },
    {
      "cell_type": "markdown",
      "source": [
        "## 3) Vectorize the data."
      ],
      "metadata": {
        "id": "X4uoJrn9B3RN"
      }
    },
    {
      "cell_type": "code",
      "source": [
        "x_train = vectorize_sequences(train_data)\n",
        "x_test = vectorize_sequences(test_data)\n",
        "     "
      ],
      "metadata": {
        "id": "Y6WVZ7voB5Q1"
      },
      "execution_count": 6,
      "outputs": []
    },
    {
      "cell_type": "markdown",
      "source": [
        "## 4) Vectorize the labels."
      ],
      "metadata": {
        "id": "_fnmWw-fCAh3"
      }
    },
    {
      "cell_type": "code",
      "source": [
        "\n",
        "y_train = np.asarray(train_labels).astype('float32')\n",
        "y_test = np.asarray(test_labels).astype('float32')\n",
        "     "
      ],
      "metadata": {
        "id": "P5td5ckzCDJ7"
      },
      "execution_count": 7,
      "outputs": []
    },
    {
      "cell_type": "markdown",
      "source": [
        "# 5) Try one hidden layer.\n",
        "##  Define the model."
      ],
      "metadata": {
        "id": "zpP6NGhVCHoa"
      }
    },
    {
      "cell_type": "code",
      "source": [
        "model = models.Sequential()\n",
        "model.add(layers.Dense(16, activation='relu', input_shape=(10000,)))\n",
        "model.add(layers.Dense(1, activation='sigmoid'))"
      ],
      "metadata": {
        "id": "y4-v9koWCL-P"
      },
      "execution_count": 8,
      "outputs": []
    },
    {
      "cell_type": "markdown",
      "source": [
        "## Compile the model."
      ],
      "metadata": {
        "id": "YAi0XHwBCQg4"
      }
    },
    {
      "cell_type": "code",
      "source": [
        "model.compile(optimizer='rmsprop',\n",
        "              loss='binary_crossentropy',\n",
        "              metrics=['accuracy'])\n"
      ],
      "metadata": {
        "id": "jCCrUwgCCSk_"
      },
      "execution_count": 9,
      "outputs": []
    },
    {
      "cell_type": "markdown",
      "source": [
        "## Train the model.\n",
        "\n"
      ],
      "metadata": {
        "id": "v1VyL5S1CYLW"
      }
    },
    {
      "cell_type": "code",
      "source": [
        "history_1 = model.fit(x_train, y_train,\n",
        "                    epochs=20,\n",
        "                    batch_size=512,\n",
        "                    validation_data=(x_test, y_test))"
      ],
      "metadata": {
        "colab": {
          "base_uri": "https://localhost:8080/"
        },
        "id": "D81ov-x6Ch4u",
        "outputId": "20b6280d-d3c0-4805-ba34-55e0a4d56ad2"
      },
      "execution_count": 10,
      "outputs": [
        {
          "output_type": "stream",
          "name": "stdout",
          "text": [
            "Epoch 1/20\n",
            "49/49 [==============================] - 5s 77ms/step - loss: 0.4582 - accuracy: 0.8239 - val_loss: 0.3593 - val_accuracy: 0.8704\n",
            "Epoch 2/20\n",
            "49/49 [==============================] - 2s 43ms/step - loss: 0.2898 - accuracy: 0.9030 - val_loss: 0.3009 - val_accuracy: 0.8848\n",
            "Epoch 3/20\n",
            "49/49 [==============================] - 2s 42ms/step - loss: 0.2343 - accuracy: 0.9171 - val_loss: 0.2814 - val_accuracy: 0.8878\n",
            "Epoch 4/20\n",
            "49/49 [==============================] - 3s 57ms/step - loss: 0.2043 - accuracy: 0.9292 - val_loss: 0.2774 - val_accuracy: 0.8880\n",
            "Epoch 5/20\n",
            "49/49 [==============================] - 2s 48ms/step - loss: 0.1845 - accuracy: 0.9346 - val_loss: 0.2804 - val_accuracy: 0.8872\n",
            "Epoch 6/20\n",
            "49/49 [==============================] - 2s 42ms/step - loss: 0.1682 - accuracy: 0.9432 - val_loss: 0.2873 - val_accuracy: 0.8839\n",
            "Epoch 7/20\n",
            "49/49 [==============================] - 3s 56ms/step - loss: 0.1554 - accuracy: 0.9478 - val_loss: 0.2911 - val_accuracy: 0.8838\n",
            "Epoch 8/20\n",
            "49/49 [==============================] - 2s 43ms/step - loss: 0.1449 - accuracy: 0.9512 - val_loss: 0.2998 - val_accuracy: 0.8821\n",
            "Epoch 9/20\n",
            "49/49 [==============================] - 3s 56ms/step - loss: 0.1353 - accuracy: 0.9547 - val_loss: 0.3068 - val_accuracy: 0.8805\n",
            "Epoch 10/20\n",
            "49/49 [==============================] - 3s 52ms/step - loss: 0.1275 - accuracy: 0.9582 - val_loss: 0.3212 - val_accuracy: 0.8773\n",
            "Epoch 11/20\n",
            "49/49 [==============================] - 2s 43ms/step - loss: 0.1202 - accuracy: 0.9616 - val_loss: 0.3257 - val_accuracy: 0.8773\n",
            "Epoch 12/20\n",
            "49/49 [==============================] - 2s 43ms/step - loss: 0.1131 - accuracy: 0.9642 - val_loss: 0.3367 - val_accuracy: 0.8752\n",
            "Epoch 13/20\n",
            "49/49 [==============================] - 3s 56ms/step - loss: 0.1064 - accuracy: 0.9664 - val_loss: 0.3512 - val_accuracy: 0.8716\n",
            "Epoch 14/20\n",
            "49/49 [==============================] - 2s 42ms/step - loss: 0.1017 - accuracy: 0.9678 - val_loss: 0.3561 - val_accuracy: 0.8726\n",
            "Epoch 15/20\n",
            "49/49 [==============================] - 3s 69ms/step - loss: 0.0958 - accuracy: 0.9702 - val_loss: 0.3694 - val_accuracy: 0.8712\n",
            "Epoch 16/20\n",
            "49/49 [==============================] - 2s 41ms/step - loss: 0.0902 - accuracy: 0.9726 - val_loss: 0.3831 - val_accuracy: 0.8694\n",
            "Epoch 17/20\n",
            "49/49 [==============================] - 2s 42ms/step - loss: 0.0857 - accuracy: 0.9744 - val_loss: 0.3884 - val_accuracy: 0.8692\n",
            "Epoch 18/20\n",
            "49/49 [==============================] - 2s 43ms/step - loss: 0.0816 - accuracy: 0.9756 - val_loss: 0.4011 - val_accuracy: 0.8681\n",
            "Epoch 19/20\n",
            "49/49 [==============================] - 2s 43ms/step - loss: 0.0772 - accuracy: 0.9770 - val_loss: 0.4121 - val_accuracy: 0.8666\n",
            "Epoch 20/20\n",
            "49/49 [==============================] - 3s 57ms/step - loss: 0.0736 - accuracy: 0.9786 - val_loss: 0.4233 - val_accuracy: 0.8657\n"
          ]
        }
      ]
    },
    {
      "cell_type": "markdown",
      "source": [
        "## 6) Try three hidden layers.\n",
        "##  Define the model."
      ],
      "metadata": {
        "id": "Ckc5ZYEECoMW"
      }
    },
    {
      "cell_type": "code",
      "source": [
        "model = models.Sequential()\n",
        "model.add(layers.Dense(16, activation='relu', input_shape=(10000,)))\n",
        "model.add(layers.Dense(16, activation='relu'))\n",
        "model.add(layers.Dense(16, activation='relu'))\n",
        "model.add(layers.Dense(1, activation='sigmoid'))"
      ],
      "metadata": {
        "id": "OOkXJKWWCsqt"
      },
      "execution_count": 11,
      "outputs": []
    },
    {
      "cell_type": "markdown",
      "source": [
        "## Compile the model.\n",
        "\n"
      ],
      "metadata": {
        "id": "1u7TgOtbCyEU"
      }
    },
    {
      "cell_type": "code",
      "source": [
        "model.compile(optimizer='rmsprop',\n",
        "              loss='binary_crossentropy',\n",
        "              metrics=['accuracy'])"
      ],
      "metadata": {
        "id": "cVDQEM5gC05k"
      },
      "execution_count": 12,
      "outputs": []
    },
    {
      "cell_type": "code",
      "source": [
        "## Train the model."
      ],
      "metadata": {
        "id": "eC8IQFsNC5Y-"
      },
      "execution_count": null,
      "outputs": []
    },
    {
      "cell_type": "code",
      "source": [
        "history_3 = model.fit(x_train, y_train,\n",
        "                    epochs=20,\n",
        "                    batch_size=512,\n",
        "                    validation_data=(x_test, y_test))"
      ],
      "metadata": {
        "colab": {
          "base_uri": "https://localhost:8080/"
        },
        "id": "ObZLz5iMC-Qs",
        "outputId": "fcd06924-275e-496c-ca1b-89758279b589"
      },
      "execution_count": 13,
      "outputs": [
        {
          "output_type": "stream",
          "name": "stdout",
          "text": [
            "Epoch 1/20\n",
            "49/49 [==============================] - 5s 86ms/step - loss: 0.5009 - accuracy: 0.7964 - val_loss: 0.3550 - val_accuracy: 0.8704\n",
            "Epoch 2/20\n",
            "49/49 [==============================] - 3s 56ms/step - loss: 0.2797 - accuracy: 0.8991 - val_loss: 0.2924 - val_accuracy: 0.8856\n",
            "Epoch 3/20\n",
            "49/49 [==============================] - 4s 73ms/step - loss: 0.2146 - accuracy: 0.9218 - val_loss: 0.2807 - val_accuracy: 0.8888\n",
            "Epoch 4/20\n",
            "49/49 [==============================] - 3s 63ms/step - loss: 0.1773 - accuracy: 0.9366 - val_loss: 0.2956 - val_accuracy: 0.8843\n",
            "Epoch 5/20\n",
            "49/49 [==============================] - 3s 57ms/step - loss: 0.1522 - accuracy: 0.9460 - val_loss: 0.3579 - val_accuracy: 0.8663\n",
            "Epoch 6/20\n",
            "49/49 [==============================] - 3s 58ms/step - loss: 0.1293 - accuracy: 0.9550 - val_loss: 0.3799 - val_accuracy: 0.8664\n",
            "Epoch 7/20\n",
            "49/49 [==============================] - 3s 64ms/step - loss: 0.1112 - accuracy: 0.9633 - val_loss: 0.4060 - val_accuracy: 0.8622\n",
            "Epoch 8/20\n",
            "49/49 [==============================] - 2s 45ms/step - loss: 0.0976 - accuracy: 0.9674 - val_loss: 0.3885 - val_accuracy: 0.8718\n",
            "Epoch 9/20\n",
            "49/49 [==============================] - 2s 43ms/step - loss: 0.0833 - accuracy: 0.9736 - val_loss: 0.4174 - val_accuracy: 0.8692\n",
            "Epoch 10/20\n",
            "49/49 [==============================] - 2s 42ms/step - loss: 0.0653 - accuracy: 0.9801 - val_loss: 0.4923 - val_accuracy: 0.8626\n",
            "Epoch 11/20\n",
            "49/49 [==============================] - 2s 43ms/step - loss: 0.0557 - accuracy: 0.9832 - val_loss: 0.5314 - val_accuracy: 0.8525\n",
            "Epoch 12/20\n",
            "49/49 [==============================] - 2s 43ms/step - loss: 0.0469 - accuracy: 0.9870 - val_loss: 0.5307 - val_accuracy: 0.8641\n",
            "Epoch 13/20\n",
            "49/49 [==============================] - 4s 72ms/step - loss: 0.0409 - accuracy: 0.9871 - val_loss: 0.5447 - val_accuracy: 0.8622\n",
            "Epoch 14/20\n",
            "49/49 [==============================] - 2s 46ms/step - loss: 0.0299 - accuracy: 0.9924 - val_loss: 0.6021 - val_accuracy: 0.8604\n",
            "Epoch 15/20\n",
            "49/49 [==============================] - 2s 43ms/step - loss: 0.0263 - accuracy: 0.9936 - val_loss: 0.6050 - val_accuracy: 0.8603\n",
            "Epoch 16/20\n",
            "49/49 [==============================] - 2s 42ms/step - loss: 0.0188 - accuracy: 0.9952 - val_loss: 0.6554 - val_accuracy: 0.8611\n",
            "Epoch 17/20\n",
            "49/49 [==============================] - 2s 42ms/step - loss: 0.0194 - accuracy: 0.9956 - val_loss: 0.6846 - val_accuracy: 0.8609\n",
            "Epoch 18/20\n",
            "49/49 [==============================] - 3s 62ms/step - loss: 0.0157 - accuracy: 0.9955 - val_loss: 0.7139 - val_accuracy: 0.8584\n",
            "Epoch 19/20\n",
            "49/49 [==============================] - 2s 44ms/step - loss: 0.0139 - accuracy: 0.9960 - val_loss: 0.7487 - val_accuracy: 0.8586\n",
            "Epoch 20/20\n",
            "49/49 [==============================] - 2s 43ms/step - loss: 0.0030 - accuracy: 0.9997 - val_loss: 0.7925 - val_accuracy: 0.8591\n"
          ]
        }
      ]
    },
    {
      "cell_type": "markdown",
      "source": [
        "## 7) Compare the validation and test accuracy of the different models."
      ],
      "metadata": {
        "id": "PO76nmihDCnU"
      }
    },
    {
      "cell_type": "code",
      "source": [
        "import matplotlib.pyplot as plt\n",
        "\n",
        "# Plot the validation accuracy for each model\n",
        "acc_1 = history_1.history['val_accuracy']\n",
        "acc_3 = history_3.history['val_accuracy']\n",
        "epochs = range(1, len(acc_1) + 1)\n",
        "\n",
        "plt.plot(epochs, acc_1, 'b', label='One hidden layer')\n",
        "plt.plot(epochs, acc_3, 'r', label='Three hidden layers')\n",
        "plt.title('Validation accuracy')\n",
        "plt.xlabel('Epochs')\n",
        "plt.ylabel('Accuracy')\n",
        "plt.legend()\n",
        "\n",
        "plt.show()"
      ],
      "metadata": {
        "colab": {
          "base_uri": "https://localhost:8080/",
          "height": 295
        },
        "id": "eBEFfsH0DFd5",
        "outputId": "f7456213-2483-4582-91b8-5650018f8eba"
      },
      "execution_count": 14,
      "outputs": [
        {
          "output_type": "display_data",
          "data": {
            "text/plain": [
              "<Figure size 432x288 with 1 Axes>"
            ],
            "image/png": "[encoded data removed]"
          },
          "metadata": {
            "needs_background": "light"
          }
        }
      ]
    },
    {
      "cell_type": "markdown",
      "source": [
        "## Question 1. From the plot, we can see the model with one hidden layer achieves a validation accuracy of around 88% while the model with three hidden layers achieves 87%. Therefore, the model with one hidden layer performs slightly better than the model with three hidden layers."
      ],
      "metadata": {
        "id": "YH-YdLmlDS04"
      }
    },
    {
      "cell_type": "markdown",
      "source": [
        "# Question 2\n",
        "## 1) Use one hidden layers with 32 units."
      ],
      "metadata": {
        "id": "aFlLz8mhDVvU"
      }
    },
    {
      "cell_type": "code",
      "source": [
        "from tensorflow.keras import models\n",
        "from tensorflow.keras import layers\n",
        "\n",
        "model = models.Sequential()\n",
        "model.add(layers.Dense(32, activation='relu', input_shape=(10000,)))\n",
        "model.add(layers.Dense(1, activation='sigmoid'))\n",
        "\n",
        "model.summary()"
      ],
      "metadata": {
        "colab": {
          "base_uri": "https://localhost:8080/"
        },
        "id": "tJW4s61xFYiU",
        "outputId": "04252648-217a-47f8-e158-dfa37023da8e"
      },
      "execution_count": 15,
      "outputs": [
        {
          "output_type": "stream",
          "name": "stdout",
          "text": [
            "Model: \"sequential_2\"\n",
            "_________________________________________________________________\n",
            " Layer (type)                Output Shape              Param #   \n",
            "=================================================================\n",
            " dense_6 (Dense)             (None, 32)                320032    \n",
            "                                                                 \n",
            " dense_7 (Dense)             (None, 1)                 33        \n",
            "                                                                 \n",
            "=================================================================\n",
            "Total params: 320,065\n",
            "Trainable params: 320,065\n",
            "Non-trainable params: 0\n",
            "_________________________________________________________________\n"
          ]
        }
      ]
    },
    {
      "cell_type": "markdown",
      "source": [
        "## 2) Use two hidden layers with 32 units."
      ],
      "metadata": {
        "id": "MyWed4PLFYOy"
      }
    },
    {
      "cell_type": "code",
      "source": [
        " from tensorflow.keras import models\n",
        "from tensorflow.keras import layers\n",
        "\n",
        "model = models.Sequential()\n",
        "model.add(layers.Dense(32, activation='relu', input_shape=(10000,)))\n",
        "model.add(layers.Dense(32, activation='relu'))\n",
        "model.add(layers.Dense(1, activation='sigmoid'))\n",
        "\n",
        "model.summary()"
      ],
      "metadata": {
        "colab": {
          "base_uri": "https://localhost:8080/"
        },
        "id": "YWqVThBiEKv0",
        "outputId": "70932031-0656-4fb4-a8c3-a20de44d0fef"
      },
      "execution_count": 16,
      "outputs": [
        {
          "output_type": "stream",
          "name": "stdout",
          "text": [
            "Model: \"sequential_3\"\n",
            "_________________________________________________________________\n",
            " Layer (type)                Output Shape              Param #   \n",
            "=================================================================\n",
            " dense_8 (Dense)             (None, 32)                320032    \n",
            "                                                                 \n",
            " dense_9 (Dense)             (None, 32)                1056      \n",
            "                                                                 \n",
            " dense_10 (Dense)            (None, 1)                 33        \n",
            "                                                                 \n",
            "=================================================================\n",
            "Total params: 321,121\n",
            "Trainable params: 321,121\n",
            "Non-trainable params: 0\n",
            "_________________________________________________________________\n"
          ]
        }
      ]
    },
    {
      "cell_type": "markdown",
      "source": [
        "## 3) Use one hidden layers with 64 units."
      ],
      "metadata": {
        "id": "-0FOYryfFOfs"
      }
    },
    {
      "cell_type": "code",
      "source": [
        "from tensorflow.keras import models\n",
        "from tensorflow.keras import layers\n",
        "\n",
        "model = models.Sequential()\n",
        "model.add(layers.Dense(64, activation='relu', input_shape=(10000,)))\n",
        "model.add(layers.Dense(1, activation='sigmoid'))\n",
        "\n",
        "model.summary()"
      ],
      "metadata": {
        "colab": {
          "base_uri": "https://localhost:8080/"
        },
        "id": "fVOwWaBTFJV8",
        "outputId": "70d1f0fb-7b1b-400c-a658-b8137d8ff2e2"
      },
      "execution_count": 17,
      "outputs": [
        {
          "output_type": "stream",
          "name": "stdout",
          "text": [
            "Model: \"sequential_4\"\n",
            "_________________________________________________________________\n",
            " Layer (type)                Output Shape              Param #   \n",
            "=================================================================\n",
            " dense_11 (Dense)            (None, 64)                640064    \n",
            "                                                                 \n",
            " dense_12 (Dense)            (None, 1)                 65        \n",
            "                                                                 \n",
            "=================================================================\n",
            "Total params: 640,129\n",
            "Trainable params: 640,129\n",
            "Non-trainable params: 0\n",
            "_________________________________________________________________\n"
          ]
        }
      ]
    },
    {
      "cell_type": "markdown",
      "source": [
        "## 4) Use two hidden layers with 64 units."
      ],
      "metadata": {
        "id": "8gDSc2U2Ey8Y"
      }
    },
    {
      "cell_type": "code",
      "source": [
        "from tensorflow.keras import models\n",
        "from tensorflow.keras import layers\n",
        "\n",
        "model = models.Sequential()\n",
        "model.add(layers.Dense(64, activation='relu', input_shape=(10000,)))\n",
        "model.add(layers.Dense(64, activation='relu'))\n",
        "model.add(layers.Dense(1, activation='sigmoid'))\n",
        "\n",
        "model.summary()"
      ],
      "metadata": {
        "colab": {
          "base_uri": "https://localhost:8080/"
        },
        "id": "3iWsLb0gExU0",
        "outputId": "ad345646-5af1-4cf4-8239-98c5197c1d71"
      },
      "execution_count": 18,
      "outputs": [
        {
          "output_type": "stream",
          "name": "stdout",
          "text": [
            "Model: \"sequential_5\"\n",
            "_________________________________________________________________\n",
            " Layer (type)                Output Shape              Param #   \n",
            "=================================================================\n",
            " dense_13 (Dense)            (None, 64)                640064    \n",
            "                                                                 \n",
            " dense_14 (Dense)            (None, 64)                4160      \n",
            "                                                                 \n",
            " dense_15 (Dense)            (None, 1)                 65        \n",
            "                                                                 \n",
            "=================================================================\n",
            "Total params: 644,289\n",
            "Trainable params: 644,289\n",
            "Non-trainable params: 0\n",
            "_________________________________________________________________\n"
          ]
        }
      ]
    },
    {
      "cell_type": "markdown",
      "source": [
        "## Question 2   In general, increasing the number of hidden layers and hidden units can make the model more complex and potentially better able to capture complex patterns in the data. However, this can also make the model more prone to overfitting if the training data is not representative of the overall population."
      ],
      "metadata": {
        "id": "Aeptmiq0Gocw"
      }
    },
    {
      "cell_type": "markdown",
      "source": [
        "#  Question 3\n",
        "##  1) Load the IMDB dataset."
      ],
      "metadata": {
        "id": "_xxs-YOtHinK"
      }
    },
    {
      "cell_type": "code",
      "source": [
        "from tensorflow.keras.datasets import imdb\n",
        "from tensorflow.keras.models import Sequential\n",
        "from tensorflow.keras.layers import Dense\n",
        "from tensorflow.keras.losses import MeanSquaredError\n",
        "from tensorflow.keras.preprocessing.sequence import pad_sequences\n",
        "(train_data, train_labels), (test_data, test_labels) = imdb.load_data(num_words=10000)\n"
      ],
      "metadata": {
        "id": "ZaInLOkOIqyR"
      },
      "execution_count": 19,
      "outputs": []
    },
    {
      "cell_type": "markdown",
      "source": [
        "##  2) Preprocess the data."
      ],
      "metadata": {
        "id": "I5i2SVrJLLGj"
      }
    },
    {
      "cell_type": "code",
      "source": [
        "max_length = 500\n",
        "train_data = pad_sequences(train_data, maxlen=max_length)\n",
        "test_data = pad_sequences(test_data, maxlen=max_length)"
      ],
      "metadata": {
        "id": "3c1ikBBjKRvi"
      },
      "execution_count": 20,
      "outputs": []
    },
    {
      "cell_type": "markdown",
      "source": [
        "# 3) Define the model.\n"
      ],
      "metadata": {
        "id": "musKhs4KMQAE"
      }
    },
    {
      "cell_type": "code",
      "source": [
        "model = Sequential()\n",
        "model.add(Dense(16, activation='relu', input_shape=(max_length,)))\n",
        "model.add(Dense(1, activation='sigmoid'))"
      ],
      "metadata": {
        "id": "okL2x20BMSPX"
      },
      "execution_count": 21,
      "outputs": []
    },
    {
      "cell_type": "markdown",
      "source": [
        "## 4) Compile the model with the MSE loss function.\n"
      ],
      "metadata": {
        "id": "DyR89vIjMPpq"
      }
    },
    {
      "cell_type": "code",
      "source": [
        "model.compile(optimizer='adam', loss=MeanSquaredError(), metrics=['accuracy'])"
      ],
      "metadata": {
        "id": "Yzifj9X8MYMw"
      },
      "execution_count": 22,
      "outputs": []
    },
    {
      "cell_type": "markdown",
      "source": [
        "## 5) Train the model.\n"
      ],
      "metadata": {
        "id": "leM_dyXlMbPi"
      }
    },
    {
      "cell_type": "code",
      "source": [
        "history = model.fit(train_data, train_labels, epochs=10, batch_size=32, validation_split=0.2)"
      ],
      "metadata": {
        "colab": {
          "base_uri": "https://localhost:8080/"
        },
        "id": "n3I1pEaZMdVt",
        "outputId": "d2e2547e-6ba8-4073-a3cc-649e4a9d55f9"
      },
      "execution_count": 23,
      "outputs": [
        {
          "output_type": "stream",
          "name": "stdout",
          "text": [
            "Epoch 1/10\n",
            "625/625 [==============================] - 3s 3ms/step - loss: 0.5002 - accuracy: 0.4997 - val_loss: 0.5060 - val_accuracy: 0.4940\n",
            "Epoch 2/10\n",
            "625/625 [==============================] - 2s 3ms/step - loss: 0.5004 - accuracy: 0.4996 - val_loss: 0.5012 - val_accuracy: 0.4988\n",
            "Epoch 3/10\n",
            "625/625 [==============================] - 3s 4ms/step - loss: 0.4988 - accuracy: 0.5012 - val_loss: 0.5062 - val_accuracy: 0.4938\n",
            "Epoch 4/10\n",
            "625/625 [==============================] - 2s 3ms/step - loss: 0.4983 - accuracy: 0.5016 - val_loss: 0.5062 - val_accuracy: 0.4938\n",
            "Epoch 5/10\n",
            "625/625 [==============================] - 2s 3ms/step - loss: 0.4983 - accuracy: 0.5016 - val_loss: 0.5062 - val_accuracy: 0.4938\n",
            "Epoch 6/10\n",
            "625/625 [==============================] - 2s 3ms/step - loss: 0.4983 - accuracy: 0.5016 - val_loss: 0.5062 - val_accuracy: 0.4938\n",
            "Epoch 7/10\n",
            "625/625 [==============================] - 2s 3ms/step - loss: 0.4983 - accuracy: 0.5016 - val_loss: 0.5062 - val_accuracy: 0.4938\n",
            "Epoch 8/10\n",
            "625/625 [==============================] - 2s 3ms/step - loss: 0.4983 - accuracy: 0.5016 - val_loss: 0.5062 - val_accuracy: 0.4938\n",
            "Epoch 9/10\n",
            "625/625 [==============================] - 2s 3ms/step - loss: 0.4983 - accuracy: 0.5016 - val_loss: 0.5062 - val_accuracy: 0.4938\n",
            "Epoch 10/10\n",
            "625/625 [==============================] - 2s 4ms/step - loss: 0.4983 - accuracy: 0.5016 - val_loss: 0.5062 - val_accuracy: 0.4938\n"
          ]
        }
      ]
    },
    {
      "cell_type": "markdown",
      "source": [
        "## 6) Evaluate the model."
      ],
      "metadata": {
        "id": "t7MHYd85MgDt"
      }
    },
    {
      "cell_type": "code",
      "source": [
        "test_loss, test_acc = model.evaluate(test_data, test_labels)\n",
        "print('Test accuracy:', test_acc)"
      ],
      "metadata": {
        "colab": {
          "base_uri": "https://localhost:8080/"
        },
        "id": "2IwpkX9bMi-9",
        "outputId": "e42f3d9c-e03c-409a-9fc2-b0c2a411c8d9"
      },
      "execution_count": 24,
      "outputs": [
        {
          "output_type": "stream",
          "name": "stdout",
          "text": [
            "782/782 [==============================] - 2s 3ms/step - loss: 0.4999 - accuracy: 0.5001\n",
            "Test accuracy: 0.5000799894332886\n"
          ]
        }
      ]
    },
    {
      "cell_type": "markdown",
      "source": [
        "# Question 3   This code defines a binary classification model using the MSE loss function instead of the more common binary cross-entropy loss function. We find the test accuracy is only 50%.  To evaluate the performance of the model, we could use both the training and testing datasets to determine whether using the MSE loss function is a suitable choice for the specific task at hand."
      ],
      "metadata": {
        "id": "1JhITDPmNNJ-"
      }
    },
    {
      "cell_type": "markdown",
      "source": [
        "# Question 4\n",
        "\n",
        "## 1) Load the IMDB dataset.\n"
      ],
      "metadata": {
        "id": "NURXBRIhOIAj"
      }
    },
    {
      "cell_type": "code",
      "source": [
        "from tensorflow.keras.datasets import imdb\n",
        "from tensorflow.keras.models import Sequential\n",
        "from tensorflow.keras.layers import Dense\n",
        "from tensorflow.keras.losses import MeanSquaredError\n",
        "from tensorflow.keras.preprocessing.sequence import pad_sequences\n",
        "(train_data, train_labels), (test_data, test_labels) = imdb.load_data(num_words=10000)"
      ],
      "metadata": {
        "id": "2oZe6YlGOhJk"
      },
      "execution_count": 25,
      "outputs": []
    },
    {
      "cell_type": "markdown",
      "source": [
        "## 2) Preprocess the data by padding sequences.\n"
      ],
      "metadata": {
        "id": "N4afPPpjOpkF"
      }
    },
    {
      "cell_type": "code",
      "source": [
        "max_length = 500\n",
        "train_data = pad_sequences(train_data, maxlen=max_length)\n",
        "test_data = pad_sequences(test_data, maxlen=max_length)"
      ],
      "metadata": {
        "id": "jY1qlaDxOrTE"
      },
      "execution_count": 26,
      "outputs": []
    },
    {
      "cell_type": "markdown",
      "source": [
        "## 3) Define the model.\n"
      ],
      "metadata": {
        "id": "1_7b33xzOtyy"
      }
    },
    {
      "cell_type": "code",
      "source": [
        "model = Sequential()\n",
        "model.add(Dense(16, activation='tanh', input_shape=(max_length,)))\n",
        "model.add(Dense(1, activation='sigmoid'))"
      ],
      "metadata": {
        "id": "NgKpo5AzOvdC"
      },
      "execution_count": 27,
      "outputs": []
    },
    {
      "cell_type": "markdown",
      "source": [
        "## 4) Compile the model with the MSE loss function.\n"
      ],
      "metadata": {
        "id": "kNWBoQqlOx8l"
      }
    },
    {
      "cell_type": "code",
      "source": [
        "model.compile(optimizer='adam', loss=MeanSquaredError(), metrics=['accuracy'])"
      ],
      "metadata": {
        "id": "ztRv30FPOzxV"
      },
      "execution_count": 28,
      "outputs": []
    },
    {
      "cell_type": "markdown",
      "source": [
        "## 5) Train the model on the training data.\n"
      ],
      "metadata": {
        "id": "j5qeB1itO18r"
      }
    },
    {
      "cell_type": "code",
      "source": [
        "history = model.fit(train_data, train_labels, epochs=10, batch_size=32, validation_split=0.2)"
      ],
      "metadata": {
        "colab": {
          "base_uri": "https://localhost:8080/"
        },
        "id": "lsYBy7A-O3oe",
        "outputId": "f367f9ce-b461-4592-cc21-47331c0908fa"
      },
      "execution_count": 29,
      "outputs": [
        {
          "output_type": "stream",
          "name": "stdout",
          "text": [
            "Epoch 1/10\n",
            "625/625 [==============================] - 3s 3ms/step - loss: 0.2764 - accuracy: 0.5042 - val_loss: 0.2620 - val_accuracy: 0.5026\n",
            "Epoch 2/10\n",
            "625/625 [==============================] - 2s 3ms/step - loss: 0.2571 - accuracy: 0.5060 - val_loss: 0.2533 - val_accuracy: 0.5052\n",
            "Epoch 3/10\n",
            "625/625 [==============================] - 2s 3ms/step - loss: 0.2509 - accuracy: 0.5142 - val_loss: 0.2514 - val_accuracy: 0.4954\n",
            "Epoch 4/10\n",
            "625/625 [==============================] - 3s 4ms/step - loss: 0.2502 - accuracy: 0.5126 - val_loss: 0.2505 - val_accuracy: 0.4996\n",
            "Epoch 5/10\n",
            "625/625 [==============================] - 2s 3ms/step - loss: 0.2497 - accuracy: 0.5150 - val_loss: 0.2517 - val_accuracy: 0.4916\n",
            "Epoch 6/10\n",
            "625/625 [==============================] - 2s 3ms/step - loss: 0.2498 - accuracy: 0.5149 - val_loss: 0.2504 - val_accuracy: 0.4968\n",
            "Epoch 7/10\n",
            "625/625 [==============================] - 2s 3ms/step - loss: 0.2499 - accuracy: 0.5087 - val_loss: 0.2503 - val_accuracy: 0.5020\n",
            "Epoch 8/10\n",
            "625/625 [==============================] - 2s 3ms/step - loss: 0.2498 - accuracy: 0.5127 - val_loss: 0.2499 - val_accuracy: 0.5146\n",
            "Epoch 9/10\n",
            "625/625 [==============================] - 2s 3ms/step - loss: 0.2496 - accuracy: 0.5148 - val_loss: 0.2501 - val_accuracy: 0.5102\n",
            "Epoch 10/10\n",
            "625/625 [==============================] - 2s 3ms/step - loss: 0.2495 - accuracy: 0.5184 - val_loss: 0.2502 - val_accuracy: 0.5128\n"
          ]
        }
      ]
    },
    {
      "cell_type": "markdown",
      "source": [
        "## 6) Evaluate the model on the testing data.\n"
      ],
      "metadata": {
        "id": "1tLVocnTO5tU"
      }
    },
    {
      "cell_type": "code",
      "source": [
        "test_loss, test_acc = model.evaluate(test_data, test_labels)\n",
        "print('Test accuracy:', test_acc)"
      ],
      "metadata": {
        "colab": {
          "base_uri": "https://localhost:8080/"
        },
        "id": "Z9z249LwO7Mi",
        "outputId": "ecbec5e6-b56c-4de4-b8c1-a9e64895b038"
      },
      "execution_count": 30,
      "outputs": [
        {
          "output_type": "stream",
          "name": "stdout",
          "text": [
            "782/782 [==============================] - 2s 2ms/step - loss: 0.2505 - accuracy: 0.5076\n",
            "Test accuracy: 0.50764000415802\n"
          ]
        }
      ]
    },
    {
      "cell_type": "markdown",
      "source": [
        "# Question 4     It's vital importance to evaluate the performance of the model by using both the training and testing datasets, to determine whether using the tanh activation function is a suitable choice or not."
      ],
      "metadata": {
        "id": "nw-JEJuAPUJF"
      }
    },
    {
      "cell_type": "markdown",
      "source": [
        "# Question 5\n",
        "## 1) Load IMDB data."
      ],
      "metadata": {
        "id": "DZjeGHBgQe0-"
      }
    },
    {
      "cell_type": "code",
      "source": [
        "from tensorflow.keras.datasets import imdb\n",
        "from tensorflow.keras.models import Sequential\n",
        "from tensorflow.keras.layers import Dense, Dropout\n",
        "from tensorflow.keras.losses import BinaryCrossentropy\n",
        "from tensorflow.keras.preprocessing.sequence import pad_sequences\n",
        "from tensorflow.keras import regularizers\n",
        "(train_data, train_labels), (test_data, test_labels) = imdb.load_data(num_words=10000)"
      ],
      "metadata": {
        "id": "DGAZ-PQyQZ3x"
      },
      "execution_count": 31,
      "outputs": []
    },
    {
      "cell_type": "markdown",
      "source": [
        "## 2) Preprocess the data by padding sequences.\n"
      ],
      "metadata": {
        "id": "Dr36OFpyQnf1"
      }
    },
    {
      "cell_type": "code",
      "source": [
        "max_length = 500\n",
        "train_data = pad_sequences(train_data, maxlen=max_length)\n",
        "test_data = pad_sequences(test_data, maxlen=max_length)"
      ],
      "metadata": {
        "id": "qI05wUewQs7E"
      },
      "execution_count": 32,
      "outputs": []
    },
    {
      "cell_type": "markdown",
      "source": [
        "# 3) Define the model with regularization and dropout.\n"
      ],
      "metadata": {
        "id": "8SDgE6JAQuXV"
      }
    },
    {
      "cell_type": "code",
      "source": [
        "from tensorflow.keras import regularizers\n",
        "from tensorflow.keras.layers import Dropout\n",
        "model = Sequential()\n",
        "model.add(Dense(16, activation='relu', input_shape=(max_length,), kernel_regularizer=regularizers.l2(0.001)))\n",
        "model.add(Dropout(0.5))\n",
        "model.add(Dense(1, activation='sigmoid'))"
      ],
      "metadata": {
        "id": "of9PaeEUQx-b"
      },
      "execution_count": 33,
      "outputs": []
    },
    {
      "cell_type": "markdown",
      "source": [
        "## 4) Compile the model with the binary crossentropy loss function.\n"
      ],
      "metadata": {
        "id": "pzbYC9ExRO5J"
      }
    },
    {
      "cell_type": "code",
      "source": [
        "from tensorflow.keras.losses import BinaryCrossentropy\n",
        "model.compile(optimizer='adam', loss=BinaryCrossentropy(), metrics=['accuracy'])"
      ],
      "metadata": {
        "id": "DEj6Sbj0RQe3"
      },
      "execution_count": 34,
      "outputs": []
    },
    {
      "cell_type": "markdown",
      "source": [
        "## 5) Train the model on the training data.\n"
      ],
      "metadata": {
        "id": "O8ct2zjwRS0q"
      }
    },
    {
      "cell_type": "code",
      "source": [
        "history = model.fit(train_data, train_labels, epochs=10, batch_size=32, validation_split=0.2)\n"
      ],
      "metadata": {
        "colab": {
          "base_uri": "https://localhost:8080/"
        },
        "id": "IpTIwNVxRU1e",
        "outputId": "ceec4d3a-a80a-4e84-a6a0-fc7acde28f65"
      },
      "execution_count": 35,
      "outputs": [
        {
          "output_type": "stream",
          "name": "stdout",
          "text": [
            "Epoch 1/10\n",
            "625/625 [==============================] - 3s 3ms/step - loss: 33.6799 - accuracy: 0.5017 - val_loss: 1.3491 - val_accuracy: 0.5104\n",
            "Epoch 2/10\n",
            "625/625 [==============================] - 2s 3ms/step - loss: 1.0435 - accuracy: 0.5023 - val_loss: 0.9989 - val_accuracy: 0.5046\n",
            "Epoch 3/10\n",
            "625/625 [==============================] - 2s 3ms/step - loss: 0.8608 - accuracy: 0.4984 - val_loss: 0.9083 - val_accuracy: 0.5070\n",
            "Epoch 4/10\n",
            "625/625 [==============================] - 2s 3ms/step - loss: 0.7423 - accuracy: 0.5031 - val_loss: 0.8971 - val_accuracy: 0.4948\n",
            "Epoch 5/10\n",
            "625/625 [==============================] - 3s 4ms/step - loss: 0.7654 - accuracy: 0.4992 - val_loss: 0.8525 - val_accuracy: 0.4940\n",
            "Epoch 6/10\n",
            "625/625 [==============================] - 2s 4ms/step - loss: 0.7268 - accuracy: 0.4984 - val_loss: 0.8481 - val_accuracy: 0.5096\n",
            "Epoch 7/10\n",
            "625/625 [==============================] - 2s 3ms/step - loss: 0.7239 - accuracy: 0.4987 - val_loss: 0.8475 - val_accuracy: 0.4936\n",
            "Epoch 8/10\n",
            "625/625 [==============================] - 2s 3ms/step - loss: 0.7258 - accuracy: 0.4963 - val_loss: 0.8479 - val_accuracy: 0.4930\n",
            "Epoch 9/10\n",
            "625/625 [==============================] - 2s 3ms/step - loss: 0.7222 - accuracy: 0.4974 - val_loss: 0.8460 - val_accuracy: 0.5076\n",
            "Epoch 10/10\n",
            "625/625 [==============================] - 2s 3ms/step - loss: 0.7204 - accuracy: 0.4922 - val_loss: 0.8593 - val_accuracy: 0.4934\n"
          ]
        }
      ]
    },
    {
      "cell_type": "markdown",
      "source": [
        "\n",
        "## 6) Evaluate the model on the testing data.\n"
      ],
      "metadata": {
        "id": "gAJBalvYRWQQ"
      }
    },
    {
      "cell_type": "code",
      "source": [
        "test_loss, test_acc = model.evaluate(test_data, test_labels)\n",
        "print('Test accuracy:', test_acc)"
      ],
      "metadata": {
        "colab": {
          "base_uri": "https://localhost:8080/"
        },
        "id": "EIIOfwCnRXmR",
        "outputId": "a6577cd2-4f42-4bdf-e740-346a2fdadcd3"
      },
      "execution_count": 36,
      "outputs": [
        {
          "output_type": "stream",
          "name": "stdout",
          "text": [
            "782/782 [==============================] - 2s 2ms/step - loss: 0.8460 - accuracy: 0.4998\n",
            "Test accuracy: 0.4997600018978119\n"
          ]
        }
      ]
    },
    {
      "cell_type": "markdown",
      "source": [
        "# Question 5 After applying dropout regularization with a rate of 0.5 and L2 regularization with a coefficient of 0.001, the model's validation accuracy improved to around 88%. The final test accuracy of the model was around 87%, which is a decent performance for a simple model like this. However, there is still some gap between the validation and test accuracy, which suggests that the model could still be improved further. In sum,  dropout and L2 regularization can be effective ways to improve the performance of a neural network and prevent overfitting."
      ],
      "metadata": {
        "id": "4iqrARCWSCXK"
      }
    }
  ]
}